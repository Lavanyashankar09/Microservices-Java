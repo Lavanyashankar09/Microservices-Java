{
 "cells": [
  {
   "cell_type": "code",
   "execution_count": 1,
   "id": "6db3e9c6-b372-4e91-93f7-5abf114da47e",
   "metadata": {},
   "outputs": [
    {
     "ename": "ModuleNotFoundError",
     "evalue": "No module named 'vad'",
     "output_type": "error",
     "traceback": [
      "\u001b[0;31m---------------------------------------------------------------------------\u001b[0m",
      "\u001b[0;31mModuleNotFoundError\u001b[0m                       Traceback (most recent call last)",
      "Cell \u001b[0;32mIn[1], line 3\u001b[0m\n\u001b[1;32m      1\u001b[0m \u001b[38;5;28;01mimport\u001b[39;00m \u001b[38;5;21;01mwhisper\u001b[39;00m\n\u001b[1;32m      2\u001b[0m \u001b[38;5;28;01mimport\u001b[39;00m \u001b[38;5;21;01mtorchaudio\u001b[39;00m\n\u001b[0;32m----> 3\u001b[0m \u001b[38;5;28;01mfrom\u001b[39;00m \u001b[38;5;21;01mvad\u001b[39;00m \u001b[38;5;28;01mimport\u001b[39;00m VAD, collect_chunks\n\u001b[1;32m      4\u001b[0m \u001b[38;5;28;01mimport\u001b[39;00m \u001b[38;5;21;01mos\u001b[39;00m\n\u001b[1;32m      5\u001b[0m \u001b[38;5;28;01mimport\u001b[39;00m \u001b[38;5;21;01mtorch\u001b[39;00m\n",
      "\u001b[0;31mModuleNotFoundError\u001b[0m: No module named 'vad'"
     ]
    }
   ],
   "source": [
    "import whisper\n",
    "import torchaudio\n",
    "from vad import VAD, collect_chunks\n",
    "import os\n",
    "import torch\n",
    "\n",
    "# Load models\n",
    "vad_model = VAD('cuda' if torch.cuda.is_available() else 'cpu')\n",
    "whisper_model = whisper.load_model(\"base\")\n",
    "\n",
    "# Path to your audio file\n",
    "AUDIO_PATH = \"your_audio_file.wav\"  # Can be .wav, .mp3, etc.\n",
    "\n",
    "# 1. Run Voice Activity Detection (Silero)\n",
    "def get_speech_segments(audio_path):\n",
    "    wav, sr = torchaudio.load(audio_path)\n",
    "    assert sr == 16000, \"Audio must be 16kHz. Resample if needed.\"\n",
    "\n",
    "    speech_timestamps = vad_model(wav, sampling_rate=sr)\n",
    "    chunks = collect_chunks(speech_timestamps, wav)\n",
    "    return chunks, sr\n",
    "\n",
    "# 2. Transcribe chunks using Whisper\n",
    "def transcribe_chunks(chunks, sr):\n",
    "    full_transcript = \"\"\n",
    "    for i, chunk in enumerate(chunks):\n",
    "        # Save temporary chunk\n",
    "        chunk_path = f\"temp_chunk_{i}.wav\"\n",
    "        torchaudio.save(chunk_path, chunk, sr)\n",
    "\n",
    "        # Transcribe with Whisper\n",
    "        result = whisper_model.transcribe(chunk_path)\n",
    "        full_transcript += result['text'] + \" \"\n",
    "\n",
    "        os.remove(chunk_path)\n",
    "\n",
    "    return full_transcript.strip()\n",
    "\n",
    "if __name__ == \"__main__\":\n",
    "    print(f\"Running VAD and Whisper on {AUDIO_PATH}...\")\n",
    "    chunks, sr = get_speech_segments(AUDIO_PATH)\n",
    "    transcript = transcribe_chunks(chunks, sr)\n",
    "    print(\"\\n--- Transcript ---\\n\")\n",
    "    print(transcript)\n"
   ]
  },
  {
   "cell_type": "code",
   "execution_count": null,
   "id": "cfe46c38-8395-4eb0-943d-7ec4e6d98750",
   "metadata": {},
   "outputs": [],
   "source": []
  },
  {
   "cell_type": "code",
   "execution_count": null,
   "id": "1dc2c7f9-daf3-4d12-8a02-096c97db244b",
   "metadata": {},
   "outputs": [],
   "source": []
  }
 ],
 "metadata": {
  "kernelspec": {
   "display_name": "Python [conda env:base] *",
   "language": "python",
   "name": "conda-base-py"
  },
  "language_info": {
   "codemirror_mode": {
    "name": "ipython",
    "version": 3
   },
   "file_extension": ".py",
   "mimetype": "text/x-python",
   "name": "python",
   "nbconvert_exporter": "python",
   "pygments_lexer": "ipython3",
   "version": "3.12.7"
  }
 },
 "nbformat": 4,
 "nbformat_minor": 5
}
